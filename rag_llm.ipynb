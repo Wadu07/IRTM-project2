{
 "cells": [
  {
   "cell_type": "code",
   "execution_count": null,
   "id": "initial_id",
   "metadata": {
    "collapsed": true
   },
   "outputs": [],
   "source": "import os"
  },
  {
   "metadata": {},
   "cell_type": "markdown",
   "source": "### Read data",
   "id": "f32bf78c020a9598"
  },
  {
   "metadata": {
    "ExecuteTime": {
     "end_time": "2025-01-24T14:33:27.794445Z",
     "start_time": "2025-01-24T14:33:27.790006Z"
    }
   },
   "cell_type": "code",
   "source": [
    "# Path to the directory containing .txt files\n",
    "txt_files = [\"dorinel_pleaca.txt\", \"dosarul_valiza.txt\", \"steaua_qarabag.txt\"]\n",
    "documents = []\n",
    "\n",
    "for file in txt_files:\n",
    "    with open(file, \"r\") as f:\n",
    "        text = f.read()\n",
    "        split_documents = text.split(\"\\n\\n\")\n",
    "        for doc in split_documents:\n",
    "            if doc.strip() != \"\":\n",
    "                documents.append(doc.strip())"
   ],
   "id": "a43fc6f31836b161",
   "outputs": [],
   "execution_count": 2
  },
  {
   "metadata": {
    "ExecuteTime": {
     "end_time": "2025-01-24T14:36:53.814579Z",
     "start_time": "2025-01-24T14:36:53.810397Z"
    }
   },
   "cell_type": "code",
   "source": "print(len(documents))",
   "id": "7745151fbe040910",
   "outputs": [
    {
     "name": "stdout",
     "output_type": "stream",
     "text": [
      "20\n"
     ]
    }
   ],
   "execution_count": 7
  },
  {
   "metadata": {},
   "cell_type": "code",
   "outputs": [],
   "execution_count": null,
   "source": "",
   "id": "8356214c04c717b0"
  }
 ],
 "metadata": {
  "kernelspec": {
   "display_name": "Python 3",
   "language": "python",
   "name": "python3"
  },
  "language_info": {
   "codemirror_mode": {
    "name": "ipython",
    "version": 2
   },
   "file_extension": ".py",
   "mimetype": "text/x-python",
   "name": "python",
   "nbconvert_exporter": "python",
   "pygments_lexer": "ipython2",
   "version": "2.7.6"
  }
 },
 "nbformat": 4,
 "nbformat_minor": 5
}
